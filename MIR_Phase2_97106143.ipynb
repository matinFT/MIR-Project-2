{
 "cells": [
  {
   "cell_type": "markdown",
   "id": "awful-balloon",
   "metadata": {
    "tags": []
   },
   "source": [
    "<div style=\"direction:rtl;line-height:300%;\">\n",
    "<font face=\"XB Zar\" size=5>\n",
    "<div align=center>\n",
    "    <font size=3>\n",
    "    باسمه تعالی\n",
    "    </font>\n",
    "    <br><br>\n",
    "    <font>\n",
    "    درس بازیابی پیشرفته اطلاعات\n",
    "    <br>\n",
    "        <font size=3>\n",
    "            مدرس: دکتر سلیمانی\n",
    "        </font>\n",
    "    </font>\n",
    "    <br><br>\n",
    "    <font>\n",
    "        <b>فاز دوم پروژه</b>\n",
    "    </font>\n",
    "    <br>\n",
    "    <font size=3>\n",
    "    موعد تحویل: ۱۷ اردیبهشت ۱۴۰۰\n",
    "    </font>\n",
    "    <br>\n",
    "    <font size=4>\n",
    "    دستیاران آموزشی: \n",
    "        <a href=\"mailto:sajjadshahabi20@yahoo.com\"> سجاد شهابی</a>،\n",
    "        <a href=\"mailto:alirezadizaji@yahoo.com\">علیرضا دیزجی</a>،\n",
    "        <a href=\"mailto:vahid98zee@gmail.com\">وحید زهتاب</a>\n",
    "    </font>\n",
    "    <br>\n",
    "        <font size=2>\n",
    "        دانشگاه صنعتی شریف\n",
    "        <br>\n",
    "        دانشکده مهندسی کامپیوتر\n",
    "    </font>\n",
    "</div>\n",
    "</font>\n",
    "</div>"
   ]
  },
  {
   "cell_type": "markdown",
   "id": "organized-airport",
   "metadata": {},
   "source": [
    "<div style=\"direction:rtl;line-height:200%;\">\n",
    "<font face=\"XB Zar\" size=3>\n",
    "    <div align=center>\n",
    "        <b>نام</b>: محمدمتین فتوحی\n",
    "        <br>\n",
    "        <b>شماره‌ی دانشجویی</b>: 97106143\n",
    "        <br>\n",
    "        <b>هم‌فکران</b>: نام هم‌فکران خود را (در صورت وجود) در اینجا یادداشت کنید\n",
    "        <br>\n",
    "        <b>منابع کمکی</b>: منابع کمکی مورد استفاده خود را (در صورت وجود) اینجا بنویسید\n",
    "    </div>\n",
    "</font>\n",
    "</div>"
   ]
  },
  {
   "cell_type": "markdown",
   "id": "opposed-tours",
   "metadata": {},
   "source": [
    "<p></p>\n",
    "<div align= \"justify\" dir=\"rtl\" markdown=1>\n",
    "<font face=\"XB Nazanin\" size=3 markdown=1>\n",
    "    <h1>\n",
    "    مقدمه\n",
    "    </h1>\n",
    "    یکی از مهم‌ترین بخش‌های طراحی سامانه‌های بازیابی اطلاعات، استفاده‌از الگوریتم‌های گوناگون یادگیری ماشین به منظور بهبود عمل‌کرد سامانه و یا خودکار‌سازی فرآیند‌های موجود در آن است. در این فاز از پروژه قصد داریم با فرض در اختیار‌داشتن مجموعه‌ی دادگانی پیش پردازش شده به حل و بررسی چند مسئله‌ی یادگیری ماشین پر کاربرد در طراحی سیستم‌های بازیابی اطلاعاتی می‌پردازیم. \n",
    "    <br><br>\n",
    "    پیش از پرداختن به محتوای پروژه نکات زیر را در نظر داشته باشید:\n",
    "    <ul>\n",
    "        <li>\n",
    "انجام این فاز از پروژه به صورت انفرادی می‌باشد.\n",
    "        </li>\n",
    "        <li>\n",
    "            تمامی پیاده‌سازی‌ها باید با زبان \n",
    "            <a href=\"https://www.python.org/\">پایتون</a>\n",
    "            صورت گیرند.\n",
    "        </li>\n",
    "        <li>\n",
    "            محدودیت استفاده از کتاب‌خانه‌های آماده در هر بخش مشخص شده است.\n",
    "        </li>\n",
    "        <li>\n",
    "           پیشنهاد می‌شود تا حد ممکن از تغییر ساختار پیشنهاد شده در\n",
    "            <code style=\"font-size:0.9em\">src</code>\n",
    "            خودداری کنید، اما اعمال تغییرات دلخواهتان مانعی ندارد.\n",
    "        </li>\n",
    "        <li>\n",
    "            در مجموع این پروژه شامل \n",
    "            ۱۲۰\n",
    "            نمره بوده که\n",
    "            ۲۰\n",
    "            نمره از آن امتیازی‌است.\n",
    "        </li>\n",
    "        <li>\n",
    "           در هر بخش علاوه بر محتوای پروژه، تلاش شده‌است پیوند‌هایی به مطالب مفید برای مطالعه‌ی بیشتر ذکر شود. بررسی این پیوند‌ها اختیاری است اما می‌تواند به درک  عمیق‌تر مطالب کمک‌کرده و یا در پیاده‌سازی این پروژه سودمند باشد.\n",
    "        </li>\n",
    "    </ul>\n",
    "    دادگان در نظر گرفته‌شده برای این فاز پروژه مجموعه‌ای پردازش‌شده از اطلاعات فیلم‌های سینمایی موجود در  \n",
    "    <a href=\"https://www.kaggle.com/rounakbanik/the-movies-dataset\">این</a>\n",
    "    مجموعه‌دادگان از وبسایت\n",
    "    Kaggle\n",
    "    می‌باشد. بررسی تحقیقات و پروژه‌های پیاده‌سازی شده بر این دادگان می‌تواند منبع خوبی برای یادگیری سیستم‌های توصیه‌گر و یا بازیابی اطلاعات باشد.\n",
    "  </p>  \n",
    "  <br>\n",
    "هر یک از جداول موجود در پوشه‌ی\n",
    "<code style=\"font-size:0.9em\">data</code>\n",
    "شامل نام، توصیف کوتاه فیلم، ژانر و وضعیت محبوبیت هر فیلم می‌باشد. برای فیلم‌هایی که میانگین آرائ کاربران به آنها بیشتر از مقدار میانه‌ی امتیاز همه‌ی فیلم‌ها بوده است برچسب popular \n",
    "و برای آنهایی که امتیاز کمتری از این مقدار داشته‌اند برچسب unpopular \n",
    " تعلق گرفته است. همچنین به منظور ساده‌سازی کار با داده، از میان ژانر‌های ذکر شده برای هر فیلم، کلیدی‌ترین ژانر انتخاب شده است. در هر یک از بخش‌های این پروژه از \n",
    "<code style=\"font-size:0.9em\">train.csv.gz</code>\n",
    "برای آموزش و اعتبارسنجی و از \n",
    "<code style=\"font-size:0.9em\">test.csv.gz</code>\n",
    "برای آزمون مدل‌های خود استفاده کنید.\n",
    "\n",
    "<h2>\n",
    "    آماده‌سازی پروژه\n",
    "</h2>\n",
    "ابتدا تمامی کتاب‌خانه‌های مورد نیاز را نصب کرده و توابع مورد نیاز خود را import کنید (درصورت استفاده از کتاب‌خانه‌های جانبی آنها را به انتهای مستند\n",
    "<code style=\"font-size:0.9em\">requirements.txt</code>\n",
    "بیافزایید):\n",
    "</font>\n",
    "</div>"
   ]
  },
  {
   "cell_type": "code",
   "execution_count": 122,
   "id": "social-requirement",
   "metadata": {},
   "outputs": [],
   "source": [
    "# install dependencies\n",
    "!pip install -r requirements.txt"
   ]
  },
  {
   "cell_type": "code",
   "execution_count": 1,
   "id": "sudden-estimate",
   "metadata": {},
   "outputs": [],
   "source": [
    "# import dependencies \n",
    "from src import preprocessor, clustering, classification\n",
    "import pandas as pd\n",
    "import numpy as np\n",
    "import matplotlib.pyplot as plt\n",
    "import seaborn as sns\n",
    "# %load_ext autoreload\n",
    "# %autoreload 2"
   ]
  },
  {
   "cell_type": "markdown",
   "id": "refined-shield",
   "metadata": {},
   "source": [
    "<div align= \"justify\" dir=\"rtl\" markdown=1>\n",
    "<font face=\"XB Nazanin\" size=3 markdown=1>\n",
    "<h2>\n",
    "آماده‌سازی دادگان (برای مطالعه)\n",
    "</h2>\n",
    "    ابتدا مجموعه‌ی دادگان آموزشی و آزمون را بارگذاری کنید: \n",
    "  \n",
    "</font>\n",
    "</div>"
   ]
  },
  {
   "cell_type": "code",
   "execution_count": 2,
   "id": "cloudy-perception",
   "metadata": {},
   "outputs": [
    {
     "data": {
      "text/html": [
       "<div>\n",
       "<style scoped>\n",
       "    .dataframe tbody tr th:only-of-type {\n",
       "        vertical-align: middle;\n",
       "    }\n",
       "\n",
       "    .dataframe tbody tr th {\n",
       "        vertical-align: top;\n",
       "    }\n",
       "\n",
       "    .dataframe thead th {\n",
       "        text-align: right;\n",
       "    }\n",
       "</style>\n",
       "<table border=\"1\" class=\"dataframe\">\n",
       "  <thead>\n",
       "    <tr style=\"text-align: right;\">\n",
       "      <th></th>\n",
       "      <th>title</th>\n",
       "      <th>plot</th>\n",
       "      <th>rating</th>\n",
       "      <th>genre</th>\n",
       "      <th>popularity</th>\n",
       "    </tr>\n",
       "  </thead>\n",
       "  <tbody>\n",
       "    <tr>\n",
       "      <th>0</th>\n",
       "      <td>Grumpier Old Men</td>\n",
       "      <td>A family wedding reignites the ancient feud be...</td>\n",
       "      <td>6.5</td>\n",
       "      <td>Romance</td>\n",
       "      <td>popular</td>\n",
       "    </tr>\n",
       "    <tr>\n",
       "      <th>1</th>\n",
       "      <td>Waiting to Exhale</td>\n",
       "      <td>Cheated on, mistreated and stepped on, the wom...</td>\n",
       "      <td>6.1</td>\n",
       "      <td>Romance</td>\n",
       "      <td>popular</td>\n",
       "    </tr>\n",
       "  </tbody>\n",
       "</table>\n",
       "</div>"
      ],
      "text/plain": [
       "               title                                               plot  \\\n",
       "0   Grumpier Old Men  A family wedding reignites the ancient feud be...   \n",
       "1  Waiting to Exhale  Cheated on, mistreated and stepped on, the wom...   \n",
       "\n",
       "   rating    genre popularity  \n",
       "0     6.5  Romance    popular  \n",
       "1     6.1  Romance    popular  "
      ]
     },
     "execution_count": 2,
     "metadata": {},
     "output_type": "execute_result"
    }
   ],
   "source": [
    "# load up the data\n",
    "train_data = pd.read_csv('data/train.csv.gz', compression='gzip')\n",
    "test_data = pd.read_csv('data/test.csv.gz', compression='gzip')\n",
    "\n",
    "train_data.head(2) # see how the data looks!"
   ]
  },
  {
   "cell_type": "markdown",
   "id": "mysterious-danger",
   "metadata": {},
   "source": [
    "<div align= \"justify\" dir=\"rtl\" markdown=1>\n",
    "<font face=\"XB Nazanin\" size=3 markdown=1>\n",
    "همانطور که می‌دانید پیش از اعمال الگوریتم‌های گوناگون یادگیری ماشین بر این دادگان نیاز‌مندیم که ضمن تمیز‌کردن اطلاعات، آنها را به صورت خاص برای الگوریتم مورد نظر آماده کنیم (برای مثال برای دسته‌بندی دادگان لازم است اطلاعات ورودی به صورت برداری و برچسب‌ها به صورت عددی نمایش داده‌شوند). در این پروژه \n",
    "<u>\n",
    "متن حاصل از الصاق نام و شرح ماجرای هر فیلم را به عنوان معرف آن فیلم و ورودی مسائل در نظر می‌گیریم   \n",
    "</u>\n",
    "و پس از اعمال پیش‌پردازش‌های لازم بر آن (حذف علائم نگارشی و ...) به کمک دو الگوریتم مختلف\n",
    "برای هر فیلم نمایشی برداری به دست می‌آوریم.\n",
    "\n",
    "</p>\n",
    "  فرآیند آماده‌سازی دادگان و حل مسئله‌ی مورد نظر هرچند در حالت کلی می‌تواند بسیار پیچیده‌باشد، اما به دلیل حضور در تمامی پروژه‌های داده‌محور \n",
    "  <i><a href=\"https://en.wikipedia.org/wiki/Pipeline_(computing)\">pipeline</a></i>\n",
    "  های مختلفی برای تسریع پیاده‌سازی آن وجود داشته و قابل استفاده‌است. یک پایپ‌لاین مناسب برای این پروژه می‌تواند \n",
    "  نسخه‌ی توسعه یافته در کتاب‌خانه‌ی \n",
    "  sklearn\n",
    "  باشد. برای یادگیری نحوه‌ی به‌کار گیری این ابزار مشاهده‌ی \n",
    "   <a href=\"https://scikit-learn.org/stable/modules/compose.html#combining-estimators\">\n",
    "   مستندات رسمی\n",
    "</a>\n",
    "    sklearn و همچنین بررسی \n",
    "    <a href=\"https://medium.com/vickdata/a-simple-guide-to-scikit-learn-pipelines-4ac0d974bdcf\">\n",
    "   این مقاله\n",
    "</a>\n",
    "    و \n",
    "  <a href=\"https://www.kaggle.com/baghern/a-deep-dive-into-sklearn-pipelines\">\n",
    "  این نوت‌بوک\n",
    "</a>\n",
    "    می‌تواند مفید باشد.\n",
    "</p>\n",
    "قطعه‌کد\n",
    "<code style=\"font-size:0.9em\">src.preprocessing</code>\n",
    "شامل نمونه‌ی \n",
    "pipeline\n",
    "مربوط به پیش‌پردازش دادگان این پروژه و یافتن نمایش برداری آنها به کمک دو الگوریتم \n",
    "TF-IDF ($vec_1$)\n",
    "و\n",
    "<a href=\"https://arxiv.org/abs/1301.3781\">Word2Vec (W2V)</a> ($vec_2$)\n",
    "می‌باشد.\n",
    "هرچند نحوه‌ی کار الگوریتم \n",
    "W2V\n",
    "در ادامه‌ی درس تدریس می‌شود، در صورتی که علاقه‌مندید درباره‌ی این الگوریتم بیشتر بدانید می‌توانید\n",
    "<a href=\"https://www.youtube.com/watch?v=yexR53My2O4\">\n",
    "این ویدئو\n",
    "</a>\n",
    "و یا \n",
    "<a href=\"https://medium.com/@zafaralibagh6/a-simple-word2vec-tutorial-61e64e38a6a1\">\n",
    "این مقاله\n",
    "</a>\n",
    "را بررسی کنید. \n",
    "برای پیاده‌سازی این الگوریتم\n",
    "از کتاب‌خانه‌ی \n",
    "<a href=\"https://radimrehurek.com/gensim/index.html\">gensim</a>\n",
    "استفاده شده‌است که علاوه بر این الگوریتم پیاده‌سازی الگوریتم‌های پرکاربرد دیگری را نیز در خود جای‌داده‌است. می‌توانید با مشاهده‌ی \n",
    "<a href=\"https://radimrehurek.com/gensim/models/word2vec.html\">\n",
    "مستندات\n",
    "</a>\n",
    "این کتاب‌خانه\n",
    "نحوه‌ی تخصیص پارامتر‌های این الگوریتم را بررسی کنید. \n",
    "\n",
    "</p>\n",
    "همانطور که می‌دانید اندازه‌ی ابعادی بردار‌های خروجی الگوریتم\n",
    "TF-IDF\n",
    "برابر تعداد کلمات موجود در \n",
    "vocabulary\n",
    "می‌باشد. از طرف دیگر بردار‌های حاصل از این الگوریتم علاوه‌بر ابعاد بالا معمولا sparse می‌باشند. \n",
    " بنابراین استفاده‌ی مستقیم از آنها معمولا نابهینه بوده و امکان کاهش ابعادی آنها بدون از دست رفتن زیاد اطلاعات وجود دارد\n",
    "به همین منظور یک pipeline جداگانه برای محاسبه‌ی بردار‌های TF-IDF و کاهش ابعاد آنها به کمک \n",
    "<a href=\"https://en.wikipedia.org/wiki/Singular_value_decomposition\">Singular Value Decomposition (SVD)</a>\n",
    "در این پیاده‌سازی استفاده‌شده است. بررسی \n",
    "<a href=\"https://www.youtube.com/playlist?list=PLMrJAkhIeNNSVjnsviglFoY2nXildDCcv\">\n",
    "این سری ویدئو‌ای\n",
    "</a>\n",
    "می‌تواند برای یادگیری عمیق‌تر کاربرد SVD برای \n",
    "<a href=\"https://en.wikipedia.org/wiki/Principal_component_analysis\">\n",
    "تحلیل مؤلفه‌های اصلی \n",
    "</a>\n",
    "دادگان مفید‌باشد.\n",
    "</p>\n",
    "در اینجا به کمک pipeline \n",
    "پیاده‌سازی شده، دادگان پروژه را برای بخش‌های بعدی آماده‌می‌کنیم. در صورت نیاز می‌توانید پیاده‌سازی pipeline و یا پارامتر‌های آن‌را برای بهبود کیفیت بردار‌های یافته شده تغییر دهید. \n",
    "</font>\n",
    "</div>\n"
   ]
  },
  {
   "cell_type": "code",
   "execution_count": 3,
   "id": "abstract-independence",
   "metadata": {
    "scrolled": true
   },
   "outputs": [
    {
     "data": {
      "text/html": [
       "<div>\n",
       "<style scoped>\n",
       "    .dataframe tbody tr th:only-of-type {\n",
       "        vertical-align: middle;\n",
       "    }\n",
       "\n",
       "    .dataframe tbody tr th {\n",
       "        vertical-align: top;\n",
       "    }\n",
       "\n",
       "    .dataframe thead th {\n",
       "        text-align: right;\n",
       "    }\n",
       "</style>\n",
       "<table border=\"1\" class=\"dataframe\">\n",
       "  <thead>\n",
       "    <tr style=\"text-align: right;\">\n",
       "      <th></th>\n",
       "      <th>genre</th>\n",
       "      <th>popularity</th>\n",
       "      <th>vec_1</th>\n",
       "      <th>vec_2</th>\n",
       "    </tr>\n",
       "  </thead>\n",
       "  <tbody>\n",
       "    <tr>\n",
       "      <th>0</th>\n",
       "      <td>6</td>\n",
       "      <td>0</td>\n",
       "      <td>[0.1483271174439019, 0.009098220939228095, -0....</td>\n",
       "      <td>[-0.0013915485, 0.28810412, -0.13399191, -0.44...</td>\n",
       "    </tr>\n",
       "    <tr>\n",
       "      <th>1</th>\n",
       "      <td>6</td>\n",
       "      <td>0</td>\n",
       "      <td>[0.1654702632195293, -0.01403241154212621, -0....</td>\n",
       "      <td>[0.20728578, 0.2612912, 0.08535396, -0.962703,...</td>\n",
       "    </tr>\n",
       "  </tbody>\n",
       "</table>\n",
       "</div>"
      ],
      "text/plain": [
       "   genre  popularity                                              vec_1  \\\n",
       "0      6           0  [0.1483271174439019, 0.009098220939228095, -0....   \n",
       "1      6           0  [0.1654702632195293, -0.01403241154212621, -0....   \n",
       "\n",
       "                                               vec_2  \n",
       "0  [-0.0013915485, 0.28810412, -0.13399191, -0.44...  \n",
       "1  [0.20728578, 0.2612912, 0.08535396, -0.962703,...  "
      ]
     },
     "execution_count": 3,
     "metadata": {},
     "output_type": "execute_result"
    }
   ],
   "source": [
    "# setup preprocessor\n",
    "preprocessor.set_params(\n",
    "    vectorizer__n_components=256, # dimensionality of the word vectors\n",
    "    vectorizer__w2v={\n",
    "        'iter':128, # number of training iterations of the w2v model\n",
    "        'min_count':2, # all words with total frequency lower than this will be ignored\n",
    "    },\n",
    ")\n",
    "preprocessor.fit(train_data)\n",
    "train_data = preprocessor.transform(train_data)\n",
    "test_data = preprocessor.transform(test_data)\n",
    "\n",
    "train_data.head(2) # see how the preprocessed data looks!"
   ]
  },
  {
   "cell_type": "markdown",
   "id": "alternative-screening",
   "metadata": {},
   "source": [
    "<div align= \"justify\" dir=\"rtl\">\n",
    "<font face=\"XB Zar\" size=3>\n",
    "   حال می‌توانیم برای بررسی درستی الگوریتم‌های بخش‌های دیگر و یافتن پارامتر‌های بهتر برای آنها، بخشی از دادگان آموزشی (مثلا ۱۰٪) را به دلخواه  برای درستی سنجی کنار گذاریم. \n",
    "    همانطور که می‌دانید راه‌کار‌های پیچیده‌تری چون\n",
    "<a href=\"https://machinelearningmastery.com/k-fold-cross-validation/#:~:text=Cross%2Dvalidation%20is%20a%20resampling,k%2Dfold%20cross%2Dvalidation.\">    \n",
    "    k-fold cross validation\n",
    "    </a>\n",
    "   هم برای اعتبار‌سنجی عمل‌کرد الگوریتم‌های یادگیری ماشین و انتخاب بهینه‌تر پارامتر‌های آنها وجود دارد و به جای این‌کار می‌توانید از آنها استفاده‌کنید. \n",
    "</font>\n",
    "</div>"
   ]
  },
  {
   "cell_type": "code",
   "execution_count": 4,
   "id": "hindu-hands",
   "metadata": {},
   "outputs": [],
   "source": [
    "# optional\n",
    "validation_fraction = 0.1 # validation proportion\n",
    "mask = np.random.rand(len(train_data)) < (1-validation_fraction)\n",
    "val_split = train_data.iloc[~mask].reset_index(drop = 1)\n",
    "train_split = train_data.iloc[mask].reset_index(drop = 1)\n"
   ]
  },
  {
   "cell_type": "markdown",
   "id": "alpha-entrance",
   "metadata": {},
   "source": [
    "<div align= \"justify\" dir=\"rtl\">\n",
    "<font face=\"XB Zar\" size=3>\n",
    "تصور کنید که می‌خواهید سامانه‌ای برای بازیابی اطلاعات مربوط به فیلم‌ها پیاده‌سازی کنید. روز به روز فیلم‌های جدیدی به بازار عرضه می‌شوند و در صورتی که بتوانید به صورت خودکار، بر حسب توضیحات فیلم حدس بزنید که فیلمی که جدیدا به سامانه‌ی شما اضافه شده است محبوب خواهد بود یا نه و یا اینکه بیشتر به کدام ژانر سینمایی شبیه‌است؛ علاوه‌بر کاربرد‌های گوناگون، می‌توانید بر اساس این اطلاعات با ترتیب بهتری اطلاعات بازیابی‌شده را به کاربران خود نمایش‌دهید.\n",
    "    با این نگاه، در ادامه به حل هر‌یک از این مسائل می‌پردازیم.\n",
    "</font>\n",
    "</div>"
   ]
  },
  {
   "cell_type": "markdown",
   "id": "black-small",
   "metadata": {},
   "source": [
    "<div align= \"justify\" dir=\"rtl\">\n",
    "<font face=\"XB Zar\" size=3>\n",
    "    <h1>دسته‌بندی\n",
    "        (۶۰ + ۱۰ نمره)\n",
    "    </h1>\n",
    "    در این بخش می‌خواهیم به کمک الگوریتم‌های دسته‌بندی، محبوبیت نسبی هر فیلم را بر اساس نام و توضیحاتش پیش‌بینی کنیم. همان‌طور که می‌دانید عمل‌کرد مناسب الگوریتم دسته‌بند، بستگی تنگاتنگی با نمایش اطلاعات ورودی خود دارد. هرچقدر نمایش برداری اطلاعات ورودی الگوریتم بهتر باشد، عمل‌کرد الگوریتم نیز معمولا بهتر خواهد بود. بر این اساس در این بخش، پس از پیاده‌سازی الگوریتم‌های نام‌برده‌شده به بررسی کیفیت نمایش برداری حاصل از دو الگوریتم \n",
    "    $vec_1$\n",
    "    و\n",
    "    $vec_2$\n",
    "    می‌پردازیم.\n",
    "    \n",
    "</font>\n",
    "</div>"
   ]
  },
  {
   "cell_type": "markdown",
   "id": "casual-sector",
   "metadata": {},
   "source": [
    "<div align= \"justify\" dir=\"rtl\">\n",
    "<font face=\"XB Zar\" size=3>\n",
    "    <h2>\n",
    "        پیاده‌سازی دسته‌بندها\n",
    "            (۴۵ نمره)\n",
    "    </h2>\n",
    "    مطابق توضیحات، پیاده‌سازی مربوط به هر یک از الگوریتم‌های نام‌برده‌شده را در\n",
    "<code style=\"font-size:0.9em\">src.classification</code>\n",
    "    تکمیل کرده و سپس با اعتبار‌سنجی الگوریتم‌های آموزش دیده با هایپر‌پارامتر‌های مختلف، بهترین تنظیمات هر الگوریتم برای دست‌یابی به دقت بالا‌تر در دسته‌بندی بر اساس هر یک از دو نمایش برداری موجود را بیابید.\n",
    " پینهاد می‌کنیم برای جست‌و‌جو در فضای هایپر‌پارامتر‌ها و اعتبار‌سنجی الگوریتم‌ها از ابزار\n",
    "    <a href=\"https://scikit-learn.org/stable/modules/generated/sklearn.model_selection.GridSearchCV.html#sklearn.model_selection.GridSearchCV\">\n",
    "    GridSearchCV\n",
    "    </a>\n",
    "    کتاب‌خانه‌ی\n",
    "    sklearn\n",
    "    استفاده‌کنید.\n",
    "</font>\n",
    "</div>"
   ]
  },
  {
   "cell_type": "markdown",
   "id": "departmental-information",
   "metadata": {},
   "source": [
    "  <div align= \"justify\" dir=\"rtl\">\n",
    "<font face=\"XB Zar\" size=3>\n",
    "    <h3>Naive Bayes\n",
    "        (۱۵ نمره)\n",
    "    </h3>\n",
    "    الگوریتم\n",
    "     Naive Bayes\n",
    "    را در\n",
    "    <code style=\"font-size:0.9em\">src.classification.models</code>\n",
    "    از پایه پیاده‌سازی کرده \n",
    "     و با اعتبار‌سنجی الگوریتم (با توزیع‌های احمالاتی مختلف و یا تنظیمات دیگر) بهترین تنظیمات الگوریتم برای دریافت دقت عمل‌کرد بیشتر بر دادگان را گزارش کنید.\n",
    "    برای مشاهده‌ی نمونه پیاده‌سازی این الگوریتم می‌توانید\n",
    "    <a href=\"https://medium.com/@srishtisawla/introduction-to-naive-bayes-for-classification-baefefb43a2d\">\n",
    "    این مقاله\n",
    "    </a>\n",
    "را بررسی کنید.\n",
    "    </font>\n",
    "</div>"
   ]
  },
  {
   "cell_type": "code",
   "execution_count": 6,
   "id": "typical-consumer",
   "metadata": {},
   "outputs": [],
   "source": [
    "def model_accuracy(model, x_test, y_test):\n",
    "    y_pred = model.predict(x_test)\n",
    "    accuracy = sum(y_pred == y_test) / len(y_pred)\n",
    "    return accuracy"
   ]
  },
  {
   "cell_type": "code",
   "execution_count": 6,
   "id": "opened-blackjack",
   "metadata": {},
   "outputs": [
    {
     "name": "stdout",
     "output_type": "stream",
     "text": [
      "gaussian NaiveBayes accuracy with vec_1 :  0.5825491873396065\n",
      "gaussian NaiveBayes accuracy with vec_2 :  0.5911035072711719\n"
     ]
    }
   ],
   "source": [
    "# train model on vec_1\n",
    "NaiveBayes_model_gaussian_vec1 = classification.NaiveBayes('gaussian')\n",
    "NaiveBayes_model_gaussian_vec1.fit(train_split[\"vec_1\"], train_split[\"popularity\"])\n",
    "accuracy = model_accuracy(NaiveBayes_model_gaussian_vec1, val_split[\"vec_1\"], val_split[\"popularity\"])\n",
    "print(\"gaussian NaiveBayes accuracy with vec_1 : \", accuracy)\n",
    "\n",
    "\n",
    "# train model on vec_2\n",
    "NaiveBayes_model_gaussian_vec2 = classification.NaiveBayes('gaussian')\n",
    "NaiveBayes_model_gaussian_vec2.fit(train_split[\"vec_2\"], train_split[\"popularity\"])\n",
    "accuracy = model_accuracy(NaiveBayes_model_gaussian_vec2, val_split[\"vec_2\"], val_split[\"popularity\"])\n",
    "print(\"gaussian NaiveBayes accuracy with vec_2 : \", accuracy)\n",
    "\n",
    "# todo: fit & validate the model to achieve the best accuracy on training data (vec_1 & vec_2)\n",
    "# todo: report best settings\n",
    "# target accuracy>0.6"
   ]
  },
  {
   "cell_type": "code",
   "execution_count": 35,
   "id": "continent-command",
   "metadata": {},
   "outputs": [
    {
     "name": "stdout",
     "output_type": "stream",
     "text": [
      "Bermoulli NaiveBayes accuracy with vec_1 :  0.5799086757990868\n",
      "Bermoulli NaiveBayes accuracy with vec_2 :  0.6009132420091324\n"
     ]
    }
   ],
   "source": [
    "# train model on vec_1\n",
    "NaiveBayes_model_bernoulli_vec1 = classification.NaiveBayes('bernoulli')\n",
    "NaiveBayes_model_bernoulli_vec1.fit(train_split[\"vec_1\"], train_split[\"popularity\"])\n",
    "accuracy = model_accuracy(NaiveBayes_model_bernoulli_vec1, val_split[\"vec_1\"], val_split[\"popularity\"])\n",
    "print(\"Bermoulli NaiveBayes accuracy with vec_1 : \", accuracy)\n",
    "\n",
    "# train model on vec_2\n",
    "NaiveBayes_model_bernoulli_vec2 = classification.NaiveBayes('bernoulli')\n",
    "NaiveBayes_model_bernoulli_vec2.fit(train_split[\"vec_2\"], train_split[\"popularity\"])\n",
    "accuracy = model_accuracy(NaiveBayes_model_bernoulli_vec2, val_split[\"vec_2\"], val_split[\"popularity\"])\n",
    "print(\"Bermoulli NaiveBayes accuracy with vec_2 : \", accuracy)"
   ]
  },
  {
   "cell_type": "markdown",
   "id": "funny-manhattan",
   "metadata": {},
   "source": [
    "\n",
    "  <div align= \"justify\" dir=\"rtl\">\n",
    "<font face=\"XB Zar\" size=3>\n",
    "    <h3>kNN\n",
    "        (۱۳ نمره)\n",
    "    </h3>\n",
    "    الگوریتم\n",
    "     kNN\n",
    "    را در\n",
    "    <code style=\"font-size:0.9em\">src.classification.models</code>\n",
    "    از پایه پیاده‌سازی کرده \n",
    "     و با اعتبار‌سنجی الگوریتم (با $k$ های مختلف و یا تنظیمات دیگر) بهترین تنظیمات الگوریتم برای دریافت دقت عمل‌کرد بیشتر بر دادگان را گزارش کنید.\n",
    "    برای مشاهده‌ی نمونه پیاده‌سازی این الگوریتم می‌توانید\n",
    "    <a href=\"https://medium.com/capital-one-tech/k-nearest-neighbors-knn-algorithm-for-machine-learning-e883219c8f26\">\n",
    "    این مقاله\n",
    "    </a>\n",
    "را بررسی کنید.\n",
    "    </font>\n",
    "</div>"
   ]
  },
  {
   "cell_type": "code",
   "execution_count": 116,
   "id": "therapeutic-pleasure",
   "metadata": {},
   "outputs": [
    {
     "name": "stdout",
     "output_type": "stream",
     "text": [
      "Models trained on vec_1: \n",
      "\n",
      "\n",
      "KNN model accuracy with K = 3 : 0.5387323943661971\n",
      "KNN model accuracy with K = 6 : 0.5431338028169014\n",
      "KNN model accuracy with K = 9 : 0.5404929577464789\n"
     ]
    }
   ],
   "source": [
    "print(\"Models trained on vec_1: \\n\\n\")\n",
    "\n",
    "KNN_model = classification.KNN(k = 3)\n",
    "KNN_model.fit(train_split[\"vec_1\"], train_split[\"popularity\"])\n",
    "accuracy = model_accuracy(KNN_model, val_split[\"vec_1\"], val_split[\"popularity\"])\n",
    "print(\"KNN model accuracy with K = {} : {}\".format(KNN_model.k, accuracy))\n",
    "\n",
    "KNN_model = classification.KNN(k = 6)\n",
    "KNN_model.fit(train_split[\"vec_1\"], train_split[\"popularity\"])\n",
    "accuracy = model_accuracy(KNN_model, val_split[\"vec_1\"], val_split[\"popularity\"])\n",
    "print(\"KNN model accuracy with K = {} : {}\".format(KNN_model.k, accuracy))\n",
    "\n",
    "KNN_model = classification.KNN(k = 9)\n",
    "KNN_model.fit(train_split[\"vec_1\"], train_split[\"popularity\"])\n",
    "accuracy = model_accuracy(KNN_model, val_split[\"vec_1\"], val_split[\"popularity\"])\n",
    "print(\"KNN model accuracy with K = {} : {}\".format(KNN_model.k, accuracy))\n",
    "\n",
    "# todo: fit & validate the model to achieve the best accuracy on training data (vec_1 & vec_2)\n",
    "# todo: report best settings\n",
    "# target accuracy>0.6"
   ]
  },
  {
   "cell_type": "code",
   "execution_count": 117,
   "id": "exact-discretion",
   "metadata": {},
   "outputs": [
    {
     "name": "stdout",
     "output_type": "stream",
     "text": [
      "Models trained on vec_2: \n",
      "\n",
      "\n",
      "KNN model accuracy with K = 3 : 0.5660211267605634\n",
      "KNN model accuracy with K = 6 : 0.5809859154929577\n",
      "KNN model accuracy with K = 9 : 0.6003521126760564\n"
     ]
    }
   ],
   "source": [
    "print(\"Models trained on vec_2: \\n\\n\")\n",
    "\n",
    "KNN_model = classification.KNN(k = 3)\n",
    "KNN_model.fit(train_split[\"vec_2\"], train_split[\"popularity\"])\n",
    "accuracy = model_accuracy(KNN_model, val_split[\"vec_2\"], val_split[\"popularity\"])\n",
    "print(\"KNN model accuracy with K = {} : {}\".format(KNN_model.k, accuracy))\n",
    "\n",
    "KNN_model = classification.KNN(k = 6)\n",
    "KNN_model.fit(train_split[\"vec_2\"], train_split[\"popularity\"])\n",
    "accuracy = model_accuracy(KNN_model, val_split[\"vec_2\"], val_split[\"popularity\"])\n",
    "print(\"KNN model accuracy with K = {} : {}\".format(KNN_model.k, accuracy))\n",
    "\n",
    "KNN_model = classification.KNN(k = 9)\n",
    "KNN_model.fit(train_split[\"vec_2\"], train_split[\"popularity\"])\n",
    "accuracy = model_accuracy(KNN_model, val_split[\"vec_2\"], val_split[\"popularity\"])\n",
    "print(\"KNN model accuracy with K = {} : {}\".format(KNN_model.k, accuracy))\n",
    "\n",
    "# k:accuracy\n",
    "# 1: 2:0.5211 3: 4: 5: 6:"
   ]
  },
  {
   "cell_type": "markdown",
   "id": "differential-arkansas",
   "metadata": {},
   "source": [
    "<div align= \"justify\" dir=\"rtl\">\n",
    "  <font face=\"XB Zar\" size=3>\n",
    "    <h3>SVM\n",
    "        (۷ نمره)\n",
    "    </h3>\n",
    "      الگوریتم SVM \n",
    "      را برای حالت \n",
    "    <a href=\"https://towardsdatascience.com/support-vector-machines-soft-margin-formulation-and-kernel-trick-4c9729dc8efe\">حاشیه نرم</a>\n",
    "    در \n",
    "    <code style=\"font-size:0.9em\">src.classification.models</code> \n",
    "       با کمک\n",
    "      توابع کتاب‌خانه‌های موجود چون\n",
    "      <a href=\"https://scikit-learn.org/stable/modules/generated/sklearn.svm.SVC.html\">\n",
    "      sklearn\n",
    "      </a>\n",
    "      پیاده‌سازی\n",
    "   و با اعتبار‌سنجی الگوریتم (بامقادیر مختلف $c$ و یا تنظیمات دیگر) بهترین تنظیمات الگوریتم برای دریافت دقت عمل‌کرد بیشتر بر دادگان را گزارش کنید.  \n",
    "    </font>\n",
    "</div>"
   ]
  },
  {
   "cell_type": "code",
   "execution_count": 109,
   "id": "liquid-professor",
   "metadata": {},
   "outputs": [
    {
     "name": "stdout",
     "output_type": "stream",
     "text": [
      "Models trained on vec_1: \n",
      "\n",
      "\n",
      "SVM model accuracy with rbf kernel, gamma = auto, C = 1: 0.6232394366197183\n",
      "SVM model accuracy with rbf kernel, gamma = scale, C = 1: 0.6232394366197183\n",
      "SVM model accuracy with poly kernel, degree = 4, C = 1: 0.5237676056338029\n"
     ]
    }
   ],
   "source": [
    "print(\"Models trained on vec_1: \\n\\n\")\n",
    "\n",
    "SVM_model = classification.SVM(kernel = 'rbf',C = 1,gamma = 'auto',degree = 3)\n",
    "SVM_model.fit(train_split[\"vec_1\"], train_split[\"popularity\"])\n",
    "accuracy = model_accuracy(SVM_model, val_split[\"vec_1\"], val_split[\"popularity\"])\n",
    "print('SVM model accuracy with {} kernel, gamma = {}, C = {}: {}'.format(SVM_model.kernel, SVM_model.gamma, SVM_model.C, accuracy))\n",
    "\n",
    "SVM_model = classification.SVM(kernel = 'rbf',C = 1,gamma = 'scale',degree = 3)\n",
    "SVM_model.fit(train_split[\"vec_1\"], train_split[\"popularity\"])\n",
    "accuracy = model_accuracy(SVM_model, val_split[\"vec_1\"], val_split[\"popularity\"])\n",
    "print('SVM model accuracy with {} kernel, gamma = {}, C = {}: {}'.format(SVM_model.kernel, SVM_model.gamma, SVM_model.C, accuracy))\n",
    "\n",
    "SVM_model = classification.SVM(kernel = 'poly',C = 1,gamma = 'auto',degree = 4)\n",
    "SVM_model.fit(train_split[\"vec_1\"], train_split[\"popularity\"])\n",
    "accuracy = model_accuracy(SVM_model, val_split[\"vec_1\"], val_split[\"popularity\"])\n",
    "print('SVM model accuracy with {} kernel, degree = {}, C = {}: {}'.format(SVM_model.kernel, SVM_model.degree, SVM_model.C, accuracy))\n",
    "\n",
    "\n",
    "# todo: fit & validate the model to achieve the best accuracy on training data (vec_1 & vec_2)\n",
    "# todo: report best settings\n",
    "# target accuracy>0.6"
   ]
  },
  {
   "cell_type": "code",
   "execution_count": 110,
   "id": "multiple-london",
   "metadata": {},
   "outputs": [
    {
     "name": "stdout",
     "output_type": "stream",
     "text": [
      "Models trained on vec_2: \n",
      "\n",
      "\n",
      "SVM model accuracy with rbf kernel, gamma = auto, C = 1: 0.6320422535211268\n",
      "SVM model accuracy with rbf kernel, gamma = scale, C = 1: 0.6320422535211268\n",
      "SVM model accuracy with poly kernel, degree = 4, C = 1: 0.5369718309859155\n"
     ]
    }
   ],
   "source": [
    "print(\"Models trained on vec_2: \\n\\n\")\n",
    "\n",
    "SVM_model = classification.SVM(kernel = 'rbf',C = 1,gamma = 'auto',degree = 3)\n",
    "SVM_model.fit(train_split[\"vec_2\"], train_split[\"popularity\"])\n",
    "accuracy = model_accuracy(SVM_model, val_split[\"vec_2\"], val_split[\"popularity\"])\n",
    "print('SVM model accuracy with {} kernel, gamma = {}, C = {}: {}'.format(SVM_model.kernel, SVM_model.gamma, SVM_model.C, accuracy))\n",
    "\n",
    "SVM_model = classification.SVM(kernel = 'rbf',C = 1,gamma = 'scale',degree = 3)\n",
    "SVM_model.fit(train_split[\"vec_2\"], train_split[\"popularity\"])\n",
    "accuracy = model_accuracy(SVM_model, val_split[\"vec_2\"], val_split[\"popularity\"])\n",
    "print('SVM model accuracy with {} kernel, gamma = {}, C = {}: {}'.format(SVM_model.kernel, SVM_model.gamma, SVM_model.C, accuracy))\n",
    "\n",
    "SVM_model = classification.SVM(kernel = 'poly',C = 1,gamma = 'auto',degree = 4)\n",
    "SVM_model.fit(train_split[\"vec_2\"], train_split[\"popularity\"])\n",
    "accuracy = model_accuracy(SVM_model, val_split[\"vec_2\"], val_split[\"popularity\"])\n",
    "print('SVM model accuracy with {} kernel, degree = {}, C = {}: {}'.format(SVM_model.kernel, SVM_model.degree, SVM_model.C, accuracy))\n"
   ]
  },
  {
   "cell_type": "markdown",
   "id": "functional-favorite",
   "metadata": {},
   "source": [
    "<div align= \"justify\" dir=\"rtl\">\n",
    "  <font face=\"XB Zar\" size=3>\n",
    "  برای وک 1:   کرنل لاینیر مدت زیادی برای ترین طول کشید ولی دقت حدود 63.5 درصد داد. کرنل پلی دقت پایینی در حد 55 درصد داشت.\n",
    "    کرنل ار بی اف با امگا اتو سریع ترین میشود و دقت 63 درصد دارد. امگا اسکیل نیز فرقی خاصی با اتو ندارد.\n",
    "      <br>\n",
    "      برای وک 2: کرنل ار بی اف با امگا اسکیل حدود 63 درصد. برای اتو هم همون.\n",
    "    </font>\n",
    "</div>"
   ]
  },
  {
   "cell_type": "markdown",
   "id": "south-proceeding",
   "metadata": {},
   "source": [
    "  <div align= \"justify\" dir=\"rtl\">\n",
    "<font face=\"XB Zar\" size=3>\n",
    "    <h3>Neural Network\n",
    "        (۱۰ نمره)\n",
    "    </h3>\n",
    "    شبکه‌ی عصبی مبنی بر معماری\n",
    "<a href=\"https://en.wikipedia.org/wiki/Multilayer_perceptron\">\n",
    "    Multilayer Perceptron\n",
    "   </a>\n",
    "    را با کمک کتاب‌خانه‌های موجود (همچون \n",
    "    <a href=\"https://scikit-learn.org/stable/modules/generated/sklearn.neural_network.MLPClassifier.html\">sklearn‌</a>)\n",
    "    در \n",
    "    <code style=\"font-size:0.9em\">src.classification.models</code>\n",
    "    پیاده‌سازی کنید. \n",
    "      انتخاب پارامتر‌های مختلف (از جمله تعداد لایه‌ها, گره‌های هر لایه و ...) به عهده خودتان است  اما سعی کنید با اعتبار‌سنجی الگوریتم با \n",
    "    <a href=\"https://towardsdatascience.com/optimizers-for-training-neural-network-59450d71caf6\">بهینه‌ساز‌ها</a>\n",
    "    , <a href=\"https://medium.com/the-theory-of-everything/understanding-activation-functions-in-neural-networks-9491262884e0\"> توابع \n",
    "    فعال‌ساز</a>\n",
    "    و تعداد لایه‌های مختلف و یا تنظیمات دیگر، بهترین تنظیمات این الگوریتم را برای دست‌یابی به دقت عمل‌کرد بیشتر بر دادگان آموزشی را یافته و آن‌را گزارش کنید.\n",
    "  </font>\n",
    "</div>"
   ]
  },
  {
   "cell_type": "code",
   "execution_count": null,
   "id": "tracked-script",
   "metadata": {},
   "outputs": [],
   "source": [
    "param_grid = dict(\n",
    "     # todo: for you to fill in\n",
    ")\n",
    "model = classification.NeuralNetwork(\n",
    "    # hyper-parameters here (if any)\n",
    ")\n",
    "# todo: fit & validate the model to achieve the best accuracy on training data (vec_1 & vec_2)\n",
    "# todo: report best settings\n",
    "# target accuracy>0.6"
   ]
  },
  {
   "cell_type": "markdown",
   "id": "offensive-bulgarian",
   "metadata": {},
   "source": [
    "<div align= \"justify\" dir=\"rtl\">\n",
    "<font face=\"XB Zar\" size=3>\n",
    "    <h3>تحلیل\n",
    "        (۵ نمره)\n",
    "    </h3>\n",
    "    نتایج بدست‌ آمده، برای بهترین تنظمیات الگوریتم‌های بالا در دو فضا‌ را با یک دیگر مقایسه کرده و نتایج خود را در ادامه گزارش کنید.\n",
    "    <h4>\n",
    "        پاسخ)\n",
    "    </h4>\n",
    "</font>\n",
    "</div>"
   ]
  },
  {
   "cell_type": "markdown",
   "id": "clinical-jenny",
   "metadata": {},
   "source": [
    "<div align= \"justify\" dir=\"rtl\">\n",
    "<font face=\"XB Zar\" size=3>\n",
    "پاسخ خود را در اینجا وارد کنید\n",
    "</font>\n",
    "</div>"
   ]
  },
  {
   "cell_type": "markdown",
   "id": "chubby-shame",
   "metadata": {},
   "source": [
    "<div align= \"justify\" dir=\"rtl\">\n",
    "<font face=\"XB Zar\" size=3>\n",
    "    <h2>ارزیابی\n",
    "        (۱۰ نمره)\n",
    "    </h2>\n",
    "    با تکمیل  \n",
    "    <code style=\"font-size:0.9em\">src.classification.evaluation</code> \n",
    "    معیار‌های ارزیابی خواسته‌شده‌ی زیر را پیاده‌سازی کنید: <br>\n",
    "    <ul>\n",
    "        <li>(۲ نمره) Accuracy</li>\n",
    "        <li>(۳ نمره) $F_۱$ با $\\beta = ۱, \\alpha = \\dfrac{۱}{۲}$</li>\n",
    "        <li>(۵ نمره) <a href=\"https://medium.com/@raghaviadoni/evaluation-metrics-i-precision-recall-and-f1-score-3ec25e9fb5d3#:~:text=Precision%20basically%20tells%20us%20that,or%20found%20by%20our%20model.&text=This%20is%20thus%20a%20high%20precision%20model(value%20of%20precision,more%20than%20that%20of%20recall).\">Precision و Recall</a> برای هر کلاس</li>\n",
    "    </ul>\n",
    "سپس با کمک تابع\n",
    "    <code style=\"font-size:0.9em\">evaluation</code> \n",
    "    عمکرد هر یک از الگوریتم‌های پیاده‌سازی شده با بهترین تنظیماتی که یافتید را\n",
    "    <u>پس از آموزش با تمامی دادگان آموزشی</u>\n",
    "    ، بر دادگان آزمون به دست آورده و جداول زیر را تکمیل کنید.\n",
    "    (<b>دقت کنید برای ارزیابی پارامتر‌ها در بخش ‌های قبل تنها از معیار Accuracy بر روی داده اعتبارسنجی استفاده کنید)</b>\n",
    "    <br>\n",
    "    <b>توجه:</b>\n",
    "    در پیاده‌سازی معیار‌ها مجاز به استفاده از کتابخانه‌های موجود (مانند \n",
    "    <a href=\"https://scikit-learn.org/stable/modules/model_evaluation.html\">sklean</a>)\n",
    "    هستید.\n",
    "    </font>\n",
    "    </font>\n",
    "</div>"
   ]
  },
  {
   "cell_type": "code",
   "execution_count": 28,
   "id": "spanish-monaco",
   "metadata": {},
   "outputs": [
    {
     "name": "stdout",
     "output_type": "stream",
     "text": [
      "NaiveBayes vec_1 metrics :  {'accuracy': 0.5724346076458753, 'f1': (0.40056417489421725, 0.6677091477716967), 'precision': (0.5668662674650699, 0.574310692669805), 'recall': (0.30970556161395857, 0.7973856209150327)}\n",
      "NaiveBayes vec_2 metrics :  {'accuracy': 0.5940643863179075, 'f1': (0.6265617769551133, 0.5553719008264463), 'precision': (0.5442122186495176, 0.6774193548387096), 'recall': (0.7382769901853872, 0.47058823529411764)}\n"
     ]
    }
   ],
   "source": [
    "# test all trained models with the best settings, and complete the following tables (or generate similar tables)\n",
    "\n",
    "best_NB = classification.NaiveBayes('gaussian')\n",
    "best_NB.fit(train_data[\"vec_1\"], train_data[\"popularity\"])\n",
    "y_best_NB = best_NB.predict(test_data[\"vec_1\"])\n",
    "NB_metrics_vec1 = classification.evaluate(test_data[\"popularity\"], y_best_NB)\n",
    "print(\"NaiveBayes vec_1 metrics : \", NB_metrics_vec1)\n",
    "\n",
    "print(\"\\n\\n\")\n",
    "\n",
    "best_NB.fit(train_data[\"vec_2\"], train_data[\"popularity\"])\n",
    "y_best_NB = best_NB.predict(test_data[\"vec_2\"])\n",
    "NB_metrics_vec2 = classification.evaluate(test_data[\"popularity\"], y_best_NB)\n",
    "print(\"NaiveBayes vec_2 metrics : \", NB_metrics_vec2)\n",
    "\n",
    "# NB_accuracy = NB_metrics[\"accuracy\"]\n",
    "# NB_f1_pos, NB_f1_neg = NB_metrics[\"f1\"]\n",
    "# NB_prec_pos, NB_prec_neg = NB_metrics[\"precision\"]\n",
    "# NB_recall_pos, NB_recall_pos_neg = NB_metrics[\"recall\"]"
   ]
  },
  {
   "cell_type": "code",
   "execution_count": null,
   "id": "different-designer",
   "metadata": {},
   "outputs": [],
   "source": [
    "best_KNN = classification.KNN(k = 2)\n",
    "best_KNN.fit(train_data[\"vec_1\"], train_data[\"popularity\"])\n",
    "y_best_KNN = best_KNN.predict(test_data[\"vec_1\"])\n",
    "KNN_metrics_vec1 = classification.evaluate(test_data[\"popularity\"], y_best_KNN)\n",
    "print(\"KNN vec_1 metrics : \", KNN_metrics_vec1)\n",
    "\n",
    "best_KNN.fit(train_data[\"vec_2\"], train_data[\"popularity\"])\n",
    "y_best_KNN = best_KNN.predict(test_data[\"vec_2\"])\n",
    "KNN_metrics_vec2 = classification.evaluate(test_data[\"popularity\"], y_best_KNN)\n",
    "print(\"KNN vec_2 metrics : \", KNN_metrics_vec2)"
   ]
  },
  {
   "cell_type": "code",
   "execution_count": 27,
   "id": "gentle-stopping",
   "metadata": {},
   "outputs": [
    {
     "name": "stdout",
     "output_type": "stream",
     "text": [
      "{'accuracy': 0.6348088531187123, 'f1': (0.5693950177935944, 0.6829694323144104), 'precision': (0.6241872561768531, 0.6415094339622641), 'recall': (0.5234460196292258, 0.7301587301587301)}\n"
     ]
    }
   ],
   "source": [
    "best_SVM = classification.SVM(\n",
    "    kernel = 'rbf',\n",
    "    C = 1,\n",
    "    gamma = 'auto',\n",
    "    degree = 3\n",
    ")\n",
    "\n",
    "best_SVM.fit(train_data[\"vec_1\"], train_data[\"popularity\"])\n",
    "y_best_SVM = best_SVM.predict(test_data[\"vec_1\"])\n",
    "SVM_metrics_vec1 = classification.evaluate(test_data[\"popularity\"], y_best_SVM)\n",
    "print(\"SVM vec_1 metrics : \", SVM_metrics_vec1)\n",
    "\n",
    "best_SVM.fit(train_data[\"vec_2\"], train_data[\"popularity\"])\n",
    "y_best_SVM = best_SVM.predict(test_data[\"vec_2\"])\n",
    "SVM_metrics_vec2 = classification.evaluate(test_data[\"popularity\"], y_best_SVM)\n",
    "print(\"SVM vec_2 metrics : \", SVM_metrics_vec2)"
   ]
  },
  {
   "cell_type": "markdown",
   "id": "verified-henry",
   "metadata": {},
   "source": [
    "<div dir=\"rtl\">\n",
    "<font face=\"XB Zar\" size=3>\n",
    "    <h4>\n",
    "        <span>vec_1</span>\n",
    "        (۵ نمره)</h4>\n",
    "<table style=\"width:100%;margin-left:auto;margin-right:auto\">\n",
    "  <tr>\n",
    "    <th>NN</th>\n",
    "    <th>SVM</th>\n",
    "    <th>kNN</th>\n",
    "    <th>NB</th>\n",
    "    <th></th>\n",
    "  </tr>\n",
    "  <tr>\n",
    "    <td>?</td>\n",
    "    <td>?</td>\n",
    "    <td>?</td>\n",
    "    <td>?</td>\n",
    "    <th>ACC</th>\n",
    "  </tr>\n",
    "  <tr>\n",
    "    <td>?</td>\n",
    "    <td>?</td>\n",
    "    <td>?</td>\n",
    "    <td>?</td>\n",
    "    <th>F1_pos</th>\n",
    "  </tr>\n",
    "  <tr>\n",
    "    <td>?</td>\n",
    "    <td>?</td>\n",
    "    <td>?</td>\n",
    "    <td>?</td>\n",
    "    <th>prec_pos</th>\n",
    "  </tr>\n",
    "  <tr>\n",
    "    <td>?</td>\n",
    "    <td>?</td>\n",
    "    <td>?</td>\n",
    "    <td>?</td>\n",
    "    <th>reca_pos</th>\n",
    "  </tr>\n",
    "   <tr>\n",
    "    <td>?</td>\n",
    "    <td>?</td>\n",
    "    <td>?</td>\n",
    "    <td>?</td>\n",
    "    <th>F1_neg</th>\n",
    "  </tr>\n",
    " <tr>\n",
    "    <td>?</td>\n",
    "    <td>?</td>\n",
    "    <td>?</td>\n",
    "    <td>?</td>\n",
    "    <th>prec_neg</th>\n",
    "  </tr>\n",
    "  <tr>\n",
    "    <td>?</td>\n",
    "    <td>?</td>\n",
    "    <td>?</td>\n",
    "    <td>?</td>\n",
    "    <th>reca_neg</th>\n",
    "  </tr>\n",
    "</table>\n",
    "</font>\n",
    "</div>"
   ]
  },
  {
   "cell_type": "markdown",
   "id": "thrown-indiana",
   "metadata": {},
   "source": [
    "<div dir=\"rtl\">\n",
    "<font face=\"XB Zar\" size=3>\n",
    "    <h4>vec_2 (۵ نمره)</h4>\n",
    "<table style=\"width:100%;margin-left:auto;margin-right:auto\">\n",
    "  <tr>\n",
    "    <th>NN</th>\n",
    "    <th>SVM</th>\n",
    "    <th>kNN</th>\n",
    "    <th>NB</th>\n",
    "    <th></th>\n",
    "  </tr>\n",
    "  <tr>\n",
    "    <td>?</td>\n",
    "    <td>?</td>\n",
    "    <td>?</td>\n",
    "    <td>?</td>\n",
    "    <th>ACC</th>\n",
    "  </tr>\n",
    "  <tr>\n",
    "    <td>?</td>\n",
    "    <td>?</td>\n",
    "    <td>?</td>\n",
    "    <td>?</td>\n",
    "    <th>F1_pos</th>\n",
    "  </tr>\n",
    "  <tr>\n",
    "    <td>?</td>\n",
    "    <td>?</td>\n",
    "    <td>?</td>\n",
    "    <td>?</td>\n",
    "    <th>prec_pos</th>\n",
    "  </tr>\n",
    "  <tr>\n",
    "    <td>?</td>\n",
    "    <td>?</td>\n",
    "    <td>?</td>\n",
    "    <td>?</td>\n",
    "    <th>reca_pos</th>\n",
    "  </tr>\n",
    "   <tr>\n",
    "    <td>?</td>\n",
    "    <td>?</td>\n",
    "    <td>?</td>\n",
    "    <td>?</td>\n",
    "    <th>F1_neg</th>\n",
    "  </tr>\n",
    " <tr>\n",
    "    <td>?</td>\n",
    "    <td>?</td>\n",
    "    <td>?</td>\n",
    "    <td>?</td>\n",
    "    <th>prec_neg</th>\n",
    "  </tr>\n",
    "  <tr>\n",
    "    <td>?</td>\n",
    "    <td>?</td>\n",
    "    <td>?</td>\n",
    "    <td>?</td>\n",
    "    <th>reca_neg</th>\n",
    "  </tr>\n",
    "</table>\n",
    "</font>\n",
    "</div>"
   ]
  },
  {
   "cell_type": "markdown",
   "id": "domestic-angel",
   "metadata": {},
   "source": [
    "<div align= \"justify\" dir=\"rtl\">\n",
    "<font face=\"XB Zar\" size=3>\n",
    "    <h2>مصور سازی (۱۰ نمره امتیازی)\n",
    "    </h2>\n",
    "    در این قسمت، از شما خواسته می‌شود که برای دسته‌بند‌های فوق (هرکدام ۲/۵ نمره) پس از طی کردن مراحل آموزش، برای مجموعه داده آزمون برچسب‌های پیش‌بینی شده را با برچسب‌های واقعی با استفاده از دو عدد (به همراه خط دسته‌بند در صورت وجود) مصورسازی برای هرکدام مقایسه کنید. برای اینکار ابتدا بایستی با استفاده از روش‌های کاهش ابعاد \n",
    "    <a href=\"https://medium.com/@aptrishu/understanding-principle-component-analysis-e32be0253ef0\">PCA</a>\n",
    "    و یا \n",
    "    <a href=\"https://medium.com/@violante.andre/an-introduction-to-t-sne-with-python-example-47e6ae7dc58f\">tSNE</a> \n",
    "    مجموعه داده‌ها را به فضای برداری دو یا سه بعدی ببرید تا امکان مصورسازی فراهم شود. همچنین استفاده از کتابخانه‌های موجود برای کاهش ابعاد و مصورسازی مانعی ندارد.\n",
    "    </font>\n",
    "</div>"
   ]
  },
  {
   "cell_type": "code",
   "execution_count": 103,
   "id": "hybrid-navigation",
   "metadata": {},
   "outputs": [],
   "source": [
    "from sklearn.decomposition import PCA\n",
    "X = np.array([np.array(x) for x in test_data[\"vec_1\"]])\n",
    "pca = PCA(n_components=2)\n",
    "pca.fit(X)\n",
    "X_pca = pca.transform(X)"
   ]
  },
  {
   "cell_type": "code",
   "execution_count": 110,
   "id": "desirable-aerospace",
   "metadata": {},
   "outputs": [
    {
     "data": {
      "image/png": "[encoded data removed]",
      "text/plain": [
       "<Figure size 432x288 with 1 Axes>"
      ]
     },
     "metadata": {
      "needs_background": "light"
     },
     "output_type": "display_data"
    }
   ],
   "source": [
    "# naiveBayes\n",
    "y_best_NB = best_NB.predict(test_data[\"vec_1\"])\n",
    "target = [0] * len(y_best_NB)\n",
    "for i in range(len(target)):\n",
    "    if y_best_NB[i] == 1:\n",
    "        if test_data[\"popularity\"][i] == 1:\n",
    "            target[i] = \"TP\"\n",
    "        else:\n",
    "            target[i] = \"FP\"\n",
    "    else:\n",
    "        if test_data[\"popularity\"][i] == 0:\n",
    "            target[i] = \"TN\"\n",
    "        else:\n",
    "            target[i] = \"FN\"\n",
    "            \n",
    "df = pd.DataFrame({'x': X_pca[:, 0],\n",
    "                   'y': X_pca[:, 1],\n",
    "                   'kind': target})\n",
    "\n",
    "sns.scatterplot(data=df, x='x', y='y', hue='kind');"
   ]
  },
  {
   "cell_type": "markdown",
   "id": "demographic-venezuela",
   "metadata": {},
   "source": [
    "<div align= \"justify\" dir=\"rtl\">\n",
    "<font face=\"XB Zar\" size=3>\n",
    "    <h1>خوشه بندی\n",
    "        (۴۰ + ۱۰ نمره)\n",
    "    </h1>\n",
    "    در این بخش، می‌خواهیم به کمک الگوریتم‌های خوشه‌بندی، فیلم‌های خود را بر اساس نام و توضیحاتشان خوشه‌بندی کرده و عملکرد این خوشه‌بند‌ها را بر حسب برچسب ژانر با یکدگیر مقایسه کنیم. \n",
    "</font>\n",
    "</div>"
   ]
  },
  {
   "cell_type": "markdown",
   "id": "instant-burden",
   "metadata": {},
   "source": [
    "<div align= \"justify\" dir=\"rtl\">\n",
    "<font face=\"XB Zar\" size=3>\n",
    "    <h2>\n",
    "        پیاده‌سازی خوشه‌بندها\n",
    "            (۳۰ نمره)\n",
    "    </h2>\n",
    "    مانند بخش دسته‌بندی، پیاده‌سازی مربوط به هر کدام از الگوریتم‌های زیر را در \n",
    "    <code style=\"font-size:0.9em\">src.clustering</code>\n",
    "    به صورت گفته شده تکمیل کرده و با اعتبارسنجی الگوریتم‌ها با هایپرپارامتر‌های مختلف بر روی داده‌های آموزش، بهترین تنظیمات هر الگوریتم را در دو نمایش برداری بدست آورید.\n",
    "برای سنجش عملکرد خوشه‌بندها از معیار <a href=\"https://stats.stackexchange.com/a/154379\">Purity</a>  برحسب <b>برچسب ژانر</b>\n",
    "    استفاده کنید. \n",
    "    <br>\n",
    "    با توجه به اینکه الگوریتم‌های خوشه‌بندی لزوما قابلیت پیش‌بینی داده‌های جدید را ندارند، برای اعتبارسنجی مدل‌های خود امکان استفاده از داده‌های اعتبار سنجی را نداریم . به همین دلیل مجموعه‌ داده‌های آموزش مورد استفاده در این بخش را از کنار هم گذاشتن دو مجموعه داده‌ی آموزش و اعتبارسنجی بخش قبل تشکیل می‌دهیم.\n",
    "</font>\n",
    "</div>"
   ]
  },
  {
   "cell_type": "code",
   "execution_count": 8,
   "id": "functioning-anthropology",
   "metadata": {},
   "outputs": [],
   "source": [
    "train_clus = pd.concat([train_split, val_split], axis = 0)"
   ]
  },
  {
   "cell_type": "markdown",
   "id": "hispanic-nitrogen",
   "metadata": {},
   "source": [
    "  <div align= \"justify\" dir=\"rtl\">\n",
    "<font face=\"XB Zar\" size=3>\n",
    "    <h3>K-means\n",
    "        (۱۵ نمره)\n",
    "    </h3>\n",
    "    الگوریتم K-means را در <code style=\"font-size:0.9em\">src.clustering.models</code> از پایه پیاده‌سازی کرده و مقدار بهینه برای هایپرپرامتر‌های این خوشه‌بند (تعداد خوشه‌ها، تعداد گام‌ها و ...) را بر حسب معیار Purity  بدست‌ آورده و در نهایت بهترین تنظیمات و میزان عملکرد مربوط به آن را در کد زیر گزارش کنید.\n",
    "     برای یادآوری شیوه‌ی عملکرد این الگوریتم می‌توانید\n",
    "    <a href=\"https://medium.com/capital-one-tech/k-means-clustering-algorithm-for-machine-learning-d1d7dc5de882\">\n",
    "    این مقاله\n",
    "    </a>\n",
    "را بررسی کنید.\n",
    "    <br>\n",
    "    <b>توجه:</b>\n",
    "    از آنجایی که برای بدست‌ آوردن بهترین پارامترها نیاز به محاسبه‌ی Purity دارید تابع مربوط به این معیار را در  <code style=\"font-size:0.9em\">src.clustering.evaluation</code> تکمیل کنید.\n",
    "    </font>\n",
    "</div>"
   ]
  },
  {
   "cell_type": "code",
   "execution_count": 9,
   "id": "coated-gasoline",
   "metadata": {},
   "outputs": [],
   "source": [
    "def cal_purity(y_pred, y_act):\n",
    "    k = int(max(y_pred)) + 1\n",
    "    most_classes = np.zeros(k)\n",
    "    for purity_class in range(k):\n",
    "        class_members = y_act[y_pred == purity_class]\n",
    "        most_class = 0\n",
    "        most_class_ec = sum(class_members == 0)\n",
    "        for j in range(1, 8):\n",
    "            temp = sum(class_members == j)\n",
    "            if temp > most_class_ec:\n",
    "                most_class_ec = temp\n",
    "                most_class = j\n",
    "        most_classes[purity_class] = most_class_ec\n",
    "    return sum(most_classes) / len(y_pred)\n"
   ]
  },
  {
   "cell_type": "code",
   "execution_count": 101,
   "id": "correct-migration",
   "metadata": {},
   "outputs": [
    {
     "name": "stdout",
     "output_type": "stream",
     "text": [
      "Models trained on vec_1: \n",
      "\n",
      "\n",
      "purity for K-Means with k = 6 and max iterations = 15: 0.20056622135716182\n",
      "purity for K-Means with k = 10 and max iterations = 15: 0.22348049190480404\n",
      "purity for K-Means with k = 16 and max iterations = 15: 0.23931699548792357\n"
     ]
    }
   ],
   "source": [
    "print(\"Models trained on vec_1: \\n\\n\")\n",
    "\n",
    "k_means_model = clustering.KMeans(k = 6,iterations = 15)\n",
    "k_means_model.fit(train_clus[\"vec_1\"])\n",
    "purity = cal_purity(k_means_model.labels, np.array(train_clus[\"genre\"]))\n",
    "print('purity for K-Means with k = {} and max iterations = {}: {}'.format(k_means_model.k, k_means_model.iterations, purity))\n",
    "\n",
    "k_means_model = clustering.KMeans(k = 10,iterations = 15)\n",
    "k_means_model.fit(train_clus[\"vec_1\"])\n",
    "purity = cal_purity(k_means_model.labels, np.array(train_clus[\"genre\"]))\n",
    "print('purity for K-Means with k = {} and max iterations = {}: {}'.format(k_means_model.k, k_means_model.iterations, purity))\n",
    "\n",
    "k_means_model = clustering.KMeans(k = 16,iterations = 15)\n",
    "k_means_model.fit(train_clus[\"vec_1\"])\n",
    "purity = cal_purity(k_means_model.labels, np.array(train_clus[\"genre\"]))\n",
    "print('purity for K-Means with k = {} and max iterations = {}: {}'.format(k_means_model.k, k_means_model.iterations, purity))\n",
    "\n",
    "# todo: fit & validate the model to achieve the best purity on training data (vec_1 & vec_2)\n",
    "# todo: report best settings\n",
    "# target purity for vec_1>=0.23, and for vec_2>=0.30 "
   ]
  },
  {
   "cell_type": "code",
   "execution_count": 105,
   "id": "verbal-encyclopedia",
   "metadata": {},
   "outputs": [
    {
     "name": "stdout",
     "output_type": "stream",
     "text": [
      "Models trained on vec_2: \n",
      "\n",
      "\n",
      "purity for K-Means with k = 6 and max iterations = 15: 0.2688666725648058\n",
      "purity for K-Means with k = 10 and max iterations = 15: 0.30452092364858885\n",
      "purity for K-Means with k = 16 and max iterations = 15: 0.32018048305759533\n"
     ]
    }
   ],
   "source": [
    "print(\"Models trained on vec_2: \\n\\n\")\n",
    "\n",
    "k_means_model = clustering.KMeans(k = 6,iterations = 15)\n",
    "k_means_model.fit(train_clus[\"vec_2\"])\n",
    "purity = cal_purity(k_means_model.labels, np.array(train_clus[\"genre\"]))\n",
    "print('purity for K-Means with k = {} and max iterations = {}: {}'.format(k_means_model.k, k_means_model.iterations, purity))\n",
    "\n",
    "k_means_model = clustering.KMeans(k = 10,iterations = 15)\n",
    "k_means_model.fit(train_clus[\"vec_2\"])\n",
    "purity = cal_purity(k_means_model.labels, np.array(train_clus[\"genre\"]))\n",
    "print('purity for K-Means with k = {} and max iterations = {}: {}'.format(k_means_model.k, k_means_model.iterations, purity))\n",
    "\n",
    "k_means_model = clustering.KMeans(k = 16,iterations = 15)\n",
    "k_means_model.fit(train_clus[\"vec_2\"])\n",
    "purity = cal_purity(k_means_model.labels, np.array(train_clus[\"genre\"]))\n",
    "print('purity for K-Means with k = {} and max iterations = {}: {}'.format(k_means_model.k, k_means_model.iterations, purity))\n"
   ]
  },
  {
   "cell_type": "markdown",
   "id": "decreased-wrestling",
   "metadata": {},
   "source": [
    "  <div align= \"justify\" dir=\"rtl\">\n",
    "<font face=\"XB Zar\" size=3>\n",
    "    <h3>Gaussian Mixture Models\n",
    "        (۸ نمره)\n",
    "    </h3>\n",
    "    الگوریتم GMM را در \n",
    "    <code style=\"font-size:0.9em\">src.clustering.models</code>\n",
    "    با استقاده از کتابخانه‌های موجود (مانند \n",
    "    <a href=\"https://scikit-learn.org/stable/modules/generated/sklearn.mixture.GaussianMixture.html\">sklean</a>)\n",
    "    پیاده‌سازی کرده و مقدار بهینه برای هایپرپرامتر‌های این خوشه‌بند (تعداد خوشه‌ها، تعداد گام‌ها و ...) را بدست‌ آورده و در نهایت بهترین تنظیمات و میزان عملکرد مربوط به آن را در کد زیر گزارش کنید. در صورتی که به شیوه‌ی پیاده‌سازی این الگوریتم علاقه دارید می‌توانید به این <a href=\"https://towardsdatascience.com/gaussian-mixture-modelling-gmm-833c88587c7f\">مقاله</a> مراجعه کنید.\n",
    "    </font>\n",
    "</div>"
   ]
  },
  {
   "cell_type": "code",
   "execution_count": 98,
   "id": "indian-holmes",
   "metadata": {
    "tags": []
   },
   "outputs": [
    {
     "name": "stdout",
     "output_type": "stream",
     "text": [
      "Models trained on vec_1: \n",
      "\n",
      "\n",
      "GMM Model accuracy with k = 6 , max_iterations = 100: 0.21826063876846855\n",
      "GMM Model accuracy with k = 10 , max_iterations = 100: 0.23197381226223127\n",
      "GMM Model accuracy with k = 16 , max_iterations = 100: 0.24374059984075025\n"
     ]
    }
   ],
   "source": [
    "print(\"Models trained on vec_1: \\n\\n\")\n",
    "\n",
    "GMM_model = clustering.GMM(cluster_count=6,max_iteration=100)\n",
    "GMM_model.fit(train_clus[\"vec_1\"])\n",
    "pred = GMM_model.predict(train_clus[\"vec_1\"])\n",
    "print('GMM Model accuracy with k = {} , max_iterations = {}: {}'.format(GMM_model.cluster_count, \n",
    "                                                                        GMM_model.max_iteration,\n",
    "                                                                        cal_purity(pred, train_clus[\"genre\"])))\n",
    "GMM_model = clustering.GMM(cluster_count=10,max_iteration=100)\n",
    "GMM_model.fit(train_clus[\"vec_1\"])\n",
    "pred = GMM_model.predict(train_clus[\"vec_1\"])\n",
    "print('GMM Model accuracy with k = {} , max_iterations = {}: {}'.format(GMM_model.cluster_count, \n",
    "                                                                        GMM_model.max_iteration,\n",
    "                                                                        cal_purity(pred, train_clus[\"genre\"])))\n",
    "GMM_model = clustering.GMM(cluster_count=16,max_iteration=100)\n",
    "GMM_model.fit(train_clus[\"vec_1\"])\n",
    "pred = GMM_model.predict(train_clus[\"vec_1\"])\n",
    "print('GMM Model accuracy with k = {} , max_iterations = {}: {}'.format(GMM_model.cluster_count, \n",
    "                                                                        GMM_model.max_iteration,\n",
    "                                                                        cal_purity(pred, train_clus[\"genre\"])))\n",
    "\n",
    "# todo: fit & validate the model to achieve the best purity on training data (vec_1 & vec_2)\n",
    "# todo: report best settings\n",
    "# target purity for vec_1>=0.24, and for vec_2>=0.28 "
   ]
  },
  {
   "cell_type": "code",
   "execution_count": 111,
   "id": "solid-indian",
   "metadata": {},
   "outputs": [
    {
     "name": "stdout",
     "output_type": "stream",
     "text": [
      "Models trained on vec_2: \n",
      "\n",
      "\n",
      "GMM Model accuracy with k = 6, max_iterations = 100: 0.25789613376979564\n",
      "GMM Model accuracy with k = 10 , max_iterations = 100: 0.29213483146067415\n",
      "GMM Model accuracy with k = 16 , max_iterations = 100: 0.32540033619393083\n"
     ]
    }
   ],
   "source": [
    "print(\"Models trained on vec_2: \\n\\n\")\n",
    "\n",
    "GMM_model = clustering.GMM(cluster_count=6,max_iteration=100)\n",
    "GMM_model.fit(train_clus[\"vec_2\"])\n",
    "pred = GMM_model.predict(train_clus[\"vec_2\"])\n",
    "print('GMM Model accuracy with k = {}, max_iterations = {}: {}'.format(GMM_model.cluster_count,\n",
    "                                                                       GMM_model.max_iteration,\n",
    "                                                                       cal_purity(pred, train_clus[\"genre\"])))\n",
    "GMM_model = clustering.GMM(cluster_count=10,max_iteration=100)\n",
    "GMM_model.fit(train_clus[\"vec_2\"])\n",
    "pred = GMM_model.predict(train_clus[\"vec_2\"])\n",
    "print('GMM Model accuracy with k = {} , max_iterations = {}: {}'.format(GMM_model.cluster_count, \n",
    "                                                                        GMM_model.max_iteration,\n",
    "                                                                        cal_purity(pred, train_clus[\"genre\"])))\n",
    "GMM_model = clustering.GMM(cluster_count=16,max_iteration=100)\n",
    "GMM_model.fit(train_clus[\"vec_2\"])\n",
    "pred = GMM_model.predict(train_clus[\"vec_2\"])\n",
    "print('GMM Model accuracy with k = {} , max_iterations = {}: {}'.format(GMM_model.cluster_count, \n",
    "                                                                        GMM_model.max_iteration,\n",
    "                                                                        cal_purity(pred, train_clus[\"genre\"])))\n"
   ]
  },
  {
   "cell_type": "markdown",
   "id": "inclusive-tsunami",
   "metadata": {},
   "source": [
    "  <div align= \"justify\" dir=\"rtl\">\n",
    "<font face=\"XB Zar\" size=3>\n",
    "    <h3>Hierarchical Clustering\n",
    "        (۷ نمره)\n",
    "    </h3>\n",
    "    الگوریتم سلسله مراتبی را در \n",
    "    <code style=\"font-size:0.9em\">src.clustering.models</code>\n",
    "    با استقاده از کتابخانه‌های موجود (مانند \n",
    "    <a href=\"https://scikit-learn.org/stable/modules/generated/sklearn.cluster.AgglomerativeClustering.html\">sklean</a>)\n",
    "    پیاده‌سازی کرده و مقدار بهینه برای هایپرپرامتر‌های این خوشه‌بند (تعداد خوشه‌ها و ...) را بدست‌ آورده \n",
    "   و در نهایت بهترین تنظیمات و میزان عملکرد مربوط به آن را در کد زیر گزارش کنید.\n",
    "    </font>\n",
    "</div>"
   ]
  },
  {
   "cell_type": "code",
   "execution_count": 114,
   "id": "sapphire-astrology",
   "metadata": {},
   "outputs": [
    {
     "name": "stdout",
     "output_type": "stream",
     "text": [
      "Models trained on vec_1: \n",
      "\n",
      "\n",
      "HC Model accuracy with k = 6 : 0.19322303813146952\n",
      "HC Model accuracy with k = 10 : 0.20622843492877996\n",
      "HC Model accuracy with k = 16 : 0.21719897372379016\n"
     ]
    }
   ],
   "source": [
    "print(\"Models trained on vec_1: \\n\\n\")\n",
    "\n",
    "HC_model = clustering.Hierarchical(cluster_count = 6)\n",
    "labels = HC_model.fit_predict(train_clus[\"vec_1\"])\n",
    "print('HC Model accuracy with k = {} : {}'.format(HC_model.cluster_count, cal_purity(labels, train_clus[\"genre\"])))\n",
    "\n",
    "HC_model = clustering.Hierarchical(cluster_count = 10)\n",
    "labels = HC_model.fit_predict(train_clus[\"vec_1\"])\n",
    "print('HC Model accuracy with k = {} : {}'.format(HC_model.cluster_count, cal_purity(labels, train_clus[\"genre\"])))\n",
    "\n",
    "HC_model = clustering.Hierarchical(cluster_count = 16)\n",
    "labels = HC_model.fit_predict(train_clus[\"vec_1\"])\n",
    "print('HC Model accuracy with k = {} : {}'.format(HC_model.cluster_count, cal_purity(labels, train_clus[\"genre\"])))\n",
    "\n",
    "# todo: fit & validate the model to achieve the best purity on training data (vec_1 & vec_2)\n",
    "# todo: report best settings\n",
    "# target purity for vec_1>=0.21, and for vec_2>=0.27 "
   ]
  },
  {
   "cell_type": "code",
   "execution_count": 115,
   "id": "powerful-cowboy",
   "metadata": {},
   "outputs": [
    {
     "name": "stdout",
     "output_type": "stream",
     "text": [
      "Models trained on vec_2: \n",
      "\n",
      "\n",
      "HC Model accuracy with k = 6: 0.2547996107228169\n",
      "HC Model accuracy with k = 10: 0.2783331858798549\n",
      "HC Model accuracy with k = 16: 0.3017782889498363\n"
     ]
    }
   ],
   "source": [
    "print(\"Models trained on vec_2: \\n\\n\")\n",
    "\n",
    "HC_model = clustering.Hierarchical(cluster_count = 6)\n",
    "labels = HC_model.fit_predict(train_clus[\"vec_2\"])\n",
    "print('HC Model accuracy with k = {}: {}'.format(HC_model.cluster_count, cal_purity(labels, train_clus[\"genre\"])))\n",
    "\n",
    "HC_model = clustering.Hierarchical(cluster_count = 10)\n",
    "labels = HC_model.fit_predict(train_clus[\"vec_2\"])\n",
    "print('HC Model accuracy with k = {}: {}'.format(HC_model.cluster_count, cal_purity(labels, train_clus[\"genre\"])))\n",
    "\n",
    "HC_model = clustering.Hierarchical(cluster_count = 16)\n",
    "labels = HC_model.fit_predict(train_clus[\"vec_2\"])\n",
    "print('HC Model accuracy with k = {}: {}'.format(HC_model.cluster_count, cal_purity(labels, train_clus[\"genre\"])))"
   ]
  },
  {
   "cell_type": "markdown",
   "id": "laden-transportation",
   "metadata": {},
   "source": [
    "<div align= \"justify\" dir=\"rtl\">\n",
    "<font face=\"XB Zar\" size=3>\n",
    "    <h3>تحلیل\n",
    "        (۵ نمره)\n",
    "    </h3>\n",
    "    نتایج بدست‌ آمده، برای بهترین تنظمیات الگوریتم‌های بالا در دو فضا‌ را با یک دیگر مقایسه کرده و نتایج خود را در ادامه گزارش کنید.\n",
    "    <h4>پاسخ)\n",
    "    </h4>\n",
    "    </font>\n",
    "</div>"
   ]
  },
  {
   "cell_type": "markdown",
   "id": "pregnant-northwest",
   "metadata": {},
   "source": [
    "<div align= \"justify\" dir=\"rtl\">\n",
    "<font face=\"XB Zar\" size=3>\n",
    "پاسخ خود را در اینجا وارد کنید\n",
    "</font>\n",
    "</div>"
   ]
  },
  {
   "cell_type": "markdown",
   "id": "level-particular",
   "metadata": {},
   "source": [
    "<div align= \"justify\" dir=\"rtl\">\n",
    "<font face=\"XB Zar\" size=3>\n",
    "    <h2>ارزیابی\n",
    "        (۵ نمره)\n",
    "    </h2>\n",
    "    با تکمیل \n",
    "    <code style=\"font-size:0.9em\">src.clustering.evaluation</code>\n",
    "    معیار‌های ارزیابی خواسته‌شده زیر را پیاده‌سازی کنید:\n",
    "    <ul>\n",
    "        <li>(۲ نمره) Purity</li>\n",
    "        <li>(۳ نمره) <a href=\"https://davetang.org/muse/2017/09/21/adjusted-rand-index/\">Adjusted Rand Index</a></li>\n",
    "    </ul>\n",
    "    سپس با کمک تابع evaluation عمکرد هر یک از الگوریتم‌های پیاده‌سازی شده را با بهترین تنظیماتی که یافتید بر روی دادگان آموزشی، به دست آورده و جداول زیر را تکمیل کنید. (دقت کنید برای ارزیابی پارامتر‌ها در بخش ‌های قبل تنها از معیار Purity  استفاده کنید)\n",
    "    <br>\n",
    "    <b>توجه:</b>\n",
    "    در پیاده‌سازی معیار‌ها مجاز به استفاده از کتابخانه‌های موجود (مانند \n",
    "    <a href=\"https://scikit-learn.org/stable/modules/model_evaluation.html\">sklean</a>)\n",
    "    هستید.\n",
    "    </font>\n",
    "</div>"
   ]
  },
  {
   "cell_type": "code",
   "execution_count": null,
   "id": "pleasant-calibration",
   "metadata": {},
   "outputs": [],
   "source": [
    "# report results for all trained models with the best settings, and complete the following tables (or generate similar tables)"
   ]
  },
  {
   "cell_type": "markdown",
   "id": "juvenile-alliance",
   "metadata": {},
   "source": [
    "<div dir=\"rtl\">\n",
    "<font face=\"XB Zar\" size=3>\n",
    "    <h4>vec_1 (۲/۵ نمره)</h4>\n",
    "<table style=\"width:100%;margin-left:auto;margin-right:auto\">\n",
    "  <tr>\n",
    "    <th>K-means</th>\n",
    "    <th>GMM</th>\n",
    "    <th>Hierarchical</th>\n",
    "    <th></th>\n",
    "  </tr>\n",
    "  <tr>\n",
    "    <td>?</td>\n",
    "    <td>?</td>\n",
    "    <td>?</td>\n",
    "    <th>Purity</th>\n",
    "  </tr>\n",
    "  <tr>\n",
    "    <td>?</td>\n",
    "    <td>?</td>\n",
    "    <td>?</td>\n",
    "    <th>ARI</th>\n",
    "  </tr>\n",
    "</table>\n",
    "</font>\n",
    "</div>"
   ]
  },
  {
   "cell_type": "markdown",
   "id": "equipped-valuable",
   "metadata": {},
   "source": [
    "<div dir=\"rtl\">\n",
    "<font face=\"XB Zar\" size=3>\n",
    "    <h4>vec_2 (۲/۵ نمره)</h4>\n",
    "<table style=\"width:100%;margin-left:auto;margin-right:auto\">\n",
    "  <tr>\n",
    "    <th>K-means</th>\n",
    "    <th>GMM</th>\n",
    "    <th>Hierarchical</th>\n",
    "    <th></th>\n",
    "  </tr>\n",
    "  <tr>\n",
    "    <td>?</td>\n",
    "    <td>?</td>\n",
    "    <td>?</td>\n",
    "    <th>Purity</th>\n",
    "  </tr>\n",
    "  <tr>\n",
    "    <td>?</td>\n",
    "    <td>?</td>\n",
    "    <td>?</td>\n",
    "    <th>ARI</th>\n",
    "  </tr>\n",
    "</table>\n",
    "</font>\n",
    "</div>"
   ]
  },
  {
   "cell_type": "markdown",
   "id": "increased-harassment",
   "metadata": {},
   "source": [
    "<div align= \"justify\" dir=\"rtl\">\n",
    "<font face=\"XB Zar\" size=3>\n",
    "    <h2>مصور سازی (۱۰ نمره امتیازی)\n",
    "    </h2>\n",
    "    در این قسمت، مشابه قسمت قبل، از شما خواسته شده‌است تا خوشه‌بندی‌های بدست آمده در قسمت قبل را در دو بعد مصورسازی کرده تا بتوانید درک بهتری از شیوه‌ی عملکرد این خوشه‌بندها داشته باشید. سعی کنید عملکرد خوشه‌بند‌ها را با یکدیگر مقایسه کرده و نتایج خود را گزارش کنید. برای رسم نمودارها ابتدا بایستی با استفاده از روش‌های کاهش ابعاد \n",
    "    <a href=\"https://medium.com/@aptrishu/understanding-principle-component-analysis-e32be0253ef0\">PCA</a>\n",
    "    و یا \n",
    "    <a href=\"https://medium.com/@violante.andre/an-introduction-to-t-sne-with-python-example-47e6ae7dc58f\">tSNE</a> \n",
    "    مجموعه داده‌ها را به فضای برداری دو یا سه بعدی ببرید تا امکان مصورسازی فراهم شود. همچنین استفاده از کتابخانه‌های موجود برای کاهش ابعاد و مصورسازی مانعی ندارد.\n",
    "    </font>\n",
    "</div>"
   ]
  },
  {
   "cell_type": "code",
   "execution_count": null,
   "id": "failing-forge",
   "metadata": {},
   "outputs": [],
   "source": [
    "# [bonus] visualize clusters"
   ]
  }
 ],
 "metadata": {
  "kernelspec": {
   "display_name": "Python 3",
   "language": "python",
   "name": "python3"
  },
  "language_info": {
   "codemirror_mode": {
    "name": "ipython",
    "version": 3
   },
   "file_extension": ".py",
   "mimetype": "text/x-python",
   "name": "python",
   "nbconvert_exporter": "python",
   "pygments_lexer": "ipython3",
   "version": "3.9.2"
  }
 },
 "nbformat": 4,
 "nbformat_minor": 5
}
